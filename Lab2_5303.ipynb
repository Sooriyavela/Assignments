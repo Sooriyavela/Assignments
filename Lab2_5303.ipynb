{
 "cells": [
  {
   "cell_type": "code",
   "execution_count": null,
   "id": "93053248",
   "metadata": {},
   "outputs": [],
   "source": [
    "#LAB2_ASDS5303\n",
    "#UTA ID -1002186838\n",
    "#Name:Jeyasooriya Saravanan\n",
    "\n",
    "import numpy as np\n",
    "from scipy.linalg import null_space\n",
    "import sympy as py"
   ]
  },
  {
   "cell_type": "code",
   "execution_count": 3,
   "id": "943caa55",
   "metadata": {},
   "outputs": [],
   "source": [
    "# Q1: use sample function to generate a random 10x10 matrix A with integers in [-10, 10] and compute the determinant of A."
   ]
  },
  {
   "cell_type": "code",
   "execution_count": 34,
   "id": "005bcbc3",
   "metadata": {},
   "outputs": [
    {
     "data": {
      "text/plain": [
       "array([[-10,  -6,  -5,  -4,  -2,  10,   7,   5,  -6,  -1],\n",
       "       [  0,  -9,  -9,  -3,  -1,  -7,  -4,   1,   4,   8],\n",
       "       [-10,   4,  -7,   2,   0,  10,   1,  -6,  -4,  -6],\n",
       "       [  5,  10,  -7,   2,  -6,  10,  -2,   4,   5,  10],\n",
       "       [ -7,   5,   3,   6,   7,  -5,  -1,  -7, -10,  -5],\n",
       "       [-10,   7,   8,  -6,  -8,   6,  -7,  -8,   0,   3],\n",
       "       [  6,  -3,  -1, -10,   0,   8,   1,  -8,  -8,  -7],\n",
       "       [ -7,   8,   4,  -7,  10,   7,   8,   4,  -1,  -9],\n",
       "       [ -6,   0,   1,  -2,   1,  -8,   9,   6, -10, -10],\n",
       "       [ -4,   9,   4,   0,   9,  -2,   3,  -8,  -7,  -8]])"
      ]
     },
     "execution_count": 34,
     "metadata": {},
     "output_type": "execute_result"
    }
   ],
   "source": [
    "A = np.random.randint(-10, 11, size=(10, 10))\n",
    "A\n"
   ]
  },
  {
   "cell_type": "code",
   "execution_count": 5,
   "id": "1041a508",
   "metadata": {},
   "outputs": [],
   "source": [
    "# Q2: Verify whether A is invertible."
   ]
  },
  {
   "cell_type": "code",
   "execution_count": 35,
   "id": "966ee663",
   "metadata": {},
   "outputs": [
    {
     "name": "stdout",
     "output_type": "stream",
     "text": [
      "The matrix A is invertible\n"
     ]
    }
   ],
   "source": [
    "determinant_A = np.linalg.det(A)\n",
    "if(determinant_A !=0):\n",
    "    print(\"The matrix A is invertible\")\n",
    "else:\n",
    "    print(\"The matrix A is not invertible\")\n"
   ]
  },
  {
   "cell_type": "code",
   "execution_count": 36,
   "id": "ffee01b6",
   "metadata": {},
   "outputs": [
    {
     "name": "stdout",
     "output_type": "stream",
     "text": [
      "The Matrix A is invertible. \n",
      "TRUE, The determinant of inverse of A equals to 1 over the determinant of A\n"
     ]
    }
   ],
   "source": [
    "# Q3: \n",
    "# 1). If your A is NOT invertible., then regenerate A for this question. Otherwise, continue to 2).\n",
    "\n",
    "# 2). Verify the determinant of inverse of A equals to 1 over the determinant of A\n",
    "\n",
    "\n",
    "if(determinant_A ==0):\n",
    "    while (determinant_A ==0):\n",
    "        A = np.random.randint(-10, 11, size=(10, 10))\n",
    "        print(\"The Matrix A is :\")\n",
    "        print(A)\n",
    "else:\n",
    "    print(\"The Matrix A is invertible. \")\n",
    "    Inverse_A = np.linalg.inv(A)\n",
    "    if((round(np.linalg.det(Inverse_A),4))==(round((1/determinant_A),4))):\n",
    "        print(\"TRUE, The determinant of inverse of A equals to 1 over the determinant of A\")\n",
    "    else:\n",
    "        print(\"FALSE, The determinant of inverse of A not equals to 1 over the determinant of A\")\n"
   ]
  },
  {
   "cell_type": "code",
   "execution_count": null,
   "id": "66cfabd4",
   "metadata": {},
   "outputs": [],
   "source": []
  },
  {
   "cell_type": "code",
   "execution_count": 37,
   "id": "eeee87bb",
   "metadata": {},
   "outputs": [
    {
     "name": "stdout",
     "output_type": "stream",
     "text": [
      "[]\n",
      "[-0.01939376  0.06479013 -0.06967193 -0.08216761  0.04243874 -0.01421471\n",
      " -0.06905007  0.0067259  -0.0833368   0.01702573]\n",
      "Rank of matrix B: 10\n",
      "[-0.01939376  0.06479013 -0.06967193 -0.08216761  0.04243874 -0.01421471\n",
      " -0.06905007  0.0067259  -0.0833368   0.01702573]\n",
      "Unique Solution\n"
     ]
    }
   ],
   "source": [
    "# Q4: \n",
    "# 1). Compute the null space of A.\n",
    "null_space_A = null_space(A)\n",
    "print(null_space_A)\n",
    "# 2). How many solutions do you expect Ax=b have and why? b can be any 10 dimensional real vectors.\n",
    "\n",
    "b = np.random.rand(10)\n",
    "x, residual, Rank, Singular_values= np.linalg.lstsq(A, b, rcond=None)\n",
    "print(x)\n",
    "print(\"Rank of matrix B:\", Rank)\n",
    "if Rank == 10:\n",
    "    print(np.linalg.solve(A,b))\n",
    "    print(\"Unique Solution\")\n",
    "elif Rank < 10:\n",
    "    M1=py.Matrix(np.append(A,b.reshape(10,1),axis=1))\n",
    "    print(M1.rref())\n",
    "    print(\"Infinite Solutions (Underdetermined)\")\n",
    "else:\n",
    "    print(\"No Solution (Inconsistent)\")"
   ]
  },
  {
   "cell_type": "code",
   "execution_count": null,
   "id": "acae0430",
   "metadata": {},
   "outputs": [],
   "source": []
  },
  {
   "cell_type": "code",
   "execution_count": 13,
   "id": "a0ccaf4d",
   "metadata": {},
   "outputs": [],
   "source": [
    "# Q5: \n",
    "# 1). Generate a random 3 x 5  matrix B with integers in [-10, 10] and a solution vector b with real numbers in [-5, 5].\n",
    "# 2). Obtain the vector space including all the solutions of the system of equations Bx=b. "
   ]
  },
  {
   "cell_type": "code",
   "execution_count": 38,
   "id": "090b8dc8",
   "metadata": {},
   "outputs": [
    {
     "name": "stdout",
     "output_type": "stream",
     "text": [
      "Matrix B:\n",
      "[[  2   5 -10  -7  -7]\n",
      " [ -3  -1   9   8  -6]\n",
      " [ -4   2  -9  -4  -3]]\n",
      "\n",
      "Vector b1:\n",
      "[0.2889492  0.68044561 4.25596638]\n",
      "\n",
      "Solution Vector is :\n",
      "[-0.62169148 -0.09072205 -0.25637308  0.10908957 -0.02654837]\n",
      "Rank of matrix B: 3\n",
      "(Matrix([\n",
      "[1, 0, 0, -0.527896995708155,  0.824034334763948,  -0.70115631286761],\n",
      "[0, 1, 0,  0.304721030042918,  -3.23175965665236, 0.0283178037926663],\n",
      "[0, 0, 1,  0.746781115879828, -0.751072961373391, -0.154967280430093]]), (0, 1, 2))\n",
      "Infinite Solutions (Underdetermined)\n"
     ]
    }
   ],
   "source": [
    "np.random.seed(0) \n",
    "\n",
    "B = np.random.randint(-10, 11, size=(3, 5))\n",
    "b1 = np.random.uniform(-5, 5, size=(3))\n",
    "\n",
    "x, residuals, rank, singular_values = np.linalg.lstsq(B, b1, rcond=None)\n",
    "\n",
    "null_space_B = null_space(B,b1)\n",
    "print(null_space_B)\n",
    "print(\"Matrix B:\")\n",
    "print(B)\n",
    "print(\"\\nVector b1:\")\n",
    "print(b1)\n",
    "print(\"\\nSolution Vector is :\")\n",
    "print(x)\n",
    "\n",
    "print(\"Rank of matrix B:\", rank)\n",
    "if rank == 5:\n",
    "    np.linalg.solve(B,b1)\n",
    "    print(\"Unique Solution\")\n",
    "elif rank < 5:\n",
    "    M=py.Matrix(np.append(B,b1.reshape(3,1),axis=1))\n",
    "    print(M.rref())\n",
    "    print(\"Infinite Solutions (Underdetermined)\")\n",
    "else:\n",
    "    print(\"No Solution (Inconsistent)\")"
   ]
  },
  {
   "cell_type": "code",
   "execution_count": null,
   "id": "e06367b6",
   "metadata": {},
   "outputs": [],
   "source": []
  }
 ],
 "metadata": {
  "kernelspec": {
   "display_name": "Python 3 (ipykernel)",
   "language": "python",
   "name": "python3"
  },
  "language_info": {
   "codemirror_mode": {
    "name": "ipython",
    "version": 3
   },
   "file_extension": ".py",
   "mimetype": "text/x-python",
   "name": "python",
   "nbconvert_exporter": "python",
   "pygments_lexer": "ipython3",
   "version": "3.11.4"
  }
 },
 "nbformat": 4,
 "nbformat_minor": 5
}
