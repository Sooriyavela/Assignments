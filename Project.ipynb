{
 "cells": [
  {
   "cell_type": "markdown",
   "id": "100c8107",
   "metadata": {
    "tags": []
   },
   "source": [
    "# PROJECT -1 "
   ]
  },
  {
   "cell_type": "markdown",
   "id": "4b9214a1",
   "metadata": {},
   "source": [
    "UTA ID - 1002186838\n",
    "Name : Jeyasooriya Saravanan"
   ]
  },
  {
   "cell_type": "markdown",
   "id": "4ffad47f",
   "metadata": {},
   "source": [
    "1. Given the following binary database:\n",
    "D A B C D E\n",
    "1 1 1 0 1 1\n",
    "2 0 1 1 0 1\n",
    "3 1 1 1 0 1\n",
    "4 1 1 0 1 1\n",
    "5 1 1 1 1 1\n",
    "6 1 0 0 0 0\n",
    "\n",
    "a. Obtain the transaction database for the above binary database."
   ]
  },
  {
   "cell_type": "markdown",
   "id": "a7f8f87b",
   "metadata": {},
   "source": [
    "The transaction database from the given binary database is:\n",
    "\n",
    "1.A, B, D, E\n",
    "\n",
    "2.B, C, E\n",
    "\n",
    "3.A, B, C, E\n",
    "\n",
    "4.A, B, D, E\n",
    "\n",
    "5.A, B, C, D, E\n",
    "\n",
    "6.A\n"
   ]
  },
  {
   "cell_type": "markdown",
   "id": "acf5fffd",
   "metadata": {},
   "source": [
    "b. Let the minsup = 3, find and document all frequent itemsets, and list each\n",
    "frequent item set group with its support(frequency)."
   ]
  },
  {
   "cell_type": "markdown",
   "id": "37ad4bde",
   "metadata": {},
   "source": [
    "The frequent itemsets group with its support frequency is mentioned below:\n",
    "\n",
    "4-itemset:\n",
    "    \n",
    "D, B, E, A - support 3\n",
    "\n",
    "3-itemsets:\n",
    "    \n",
    "B, E, A - support 4\n",
    "\n",
    "B, E, C - support 3\n",
    "\n",
    "D, B, A - support 3\n",
    "\n",
    "D, B, E - support 3\n",
    "\n",
    "D, E, A - support 3\n",
    "\n",
    "2-itemsets:\n",
    "    \n",
    "B, A - support 4\n",
    "\n",
    "B, C - support 3\n",
    "\n",
    "B, E - support 5\n",
    "\n",
    "D, A - support 3\n",
    "\n",
    "D, B - support 3\n",
    "\n",
    "D, E - support 3\n",
    "\n",
    "E, A - support 4\n",
    "\n",
    "E, C - support 3\n",
    "\n",
    "1-itemsets:\n",
    "    \n",
    "A - support 5\n",
    "\n",
    "B - support 5\n",
    "\n",
    "C - support 3\n",
    "\n",
    "D - support 3\n",
    "\n",
    "E - support 5\n",
    "\n",
    "Above are the itemsets in the Transaction database that exceed the minimum support threshold of 3, \n",
    "making them frequent. "
   ]
  },
  {
   "cell_type": "markdown",
   "id": "36329914",
   "metadata": {},
   "source": [
    "2. The following table is a summary of customers’ purchase history of milk and\n",
    "bread. Calculate the chi-square correlation value. Round your answer to 4\n",
    "decimal places.\n",
    "\n",
    "Buy Milk Do not buy milk\n",
    "\n",
    "Buy bread 3462 252\n",
    "\n",
    "Do not buy bread 233 25642\n"
   ]
  },
  {
   "cell_type": "code",
   "execution_count": 2,
   "id": "d81e6c57",
   "metadata": {},
   "outputs": [],
   "source": [
    "import numpy as np\n",
    "from scipy.stats import chi2_contingency"
   ]
  },
  {
   "cell_type": "code",
   "execution_count": 3,
   "id": "f40c05f1",
   "metadata": {},
   "outputs": [],
   "source": [
    "data = np.array([\n",
    "    [3462, 252],  \n",
    "    [233, 25642]  \n",
    "])"
   ]
  },
  {
   "cell_type": "code",
   "execution_count": 4,
   "id": "5af73dac",
   "metadata": {},
   "outputs": [
    {
     "data": {
      "text/plain": [
       "array([[ 3462,   252],\n",
       "       [  233, 25642]])"
      ]
     },
     "execution_count": 4,
     "metadata": {},
     "output_type": "execute_result"
    }
   ],
   "source": [
    "data"
   ]
  },
  {
   "cell_type": "code",
   "execution_count": 5,
   "id": "d4a722c7",
   "metadata": {},
   "outputs": [
    {
     "name": "stdout",
     "output_type": "stream",
     "text": [
      "25318.198841136033\n",
      "25318\n"
     ]
    }
   ],
   "source": [
    "chi2, p1, doff, etd = chi2_contingency(data)\n",
    "#chi2= chi2_contingency(data)\n",
    "\n",
    "# Round chi-square statistic to 4 decimal places\n",
    "\n",
    "print(chi2)\n",
    "print(int(25318))"
   ]
  },
  {
   "cell_type": "markdown",
   "id": "85ed6890",
   "metadata": {},
   "source": [
    "This chi-square score of 25318.198841136033 implies that there is a significant relationship between the purchase of milk and the purchase of bread.\n",
    "This score lead to the rejection of the null hypothesis, confirming that the variables are related."
   ]
  },
  {
   "cell_type": "markdown",
   "id": "2c1b1f28",
   "metadata": {},
   "source": [
    "3. Using the data with attribute age, the age values for the data tuples are in the\n",
    "attached file.\n",
    "\n",
    "a. What is the mean of the data? What is the median?"
   ]
  },
  {
   "cell_type": "code",
   "execution_count": 35,
   "id": "0812efaa",
   "metadata": {},
   "outputs": [],
   "source": [
    "import pandas as pd"
   ]
  },
  {
   "cell_type": "code",
   "execution_count": 36,
   "id": "1aaff32f",
   "metadata": {},
   "outputs": [],
   "source": [
    "df = pd.read_excel('/Users/sooriya/Downloads/age_corrected.xlsx')"
   ]
  },
  {
   "cell_type": "code",
   "execution_count": 37,
   "id": "b48ff08e",
   "metadata": {},
   "outputs": [
    {
     "data": {
      "text/plain": [
       "0    13\n",
       "1    15\n",
       "2    16\n",
       "3    16\n",
       "4    19\n",
       "Name: age, dtype: int64"
      ]
     },
     "execution_count": 37,
     "metadata": {},
     "output_type": "execute_result"
    }
   ],
   "source": [
    "df['age'].head()"
   ]
  },
  {
   "cell_type": "code",
   "execution_count": 38,
   "id": "cd0f8ab1",
   "metadata": {},
   "outputs": [
    {
     "name": "stdout",
     "output_type": "stream",
     "text": [
      "29.59259259259259\n",
      "25.0\n"
     ]
    }
   ],
   "source": [
    "mean = df['age'].mean()\n",
    "median = df['age'].median()\n",
    "print(mean)\n",
    "print(median)"
   ]
  },
  {
   "cell_type": "markdown",
   "id": "8e174624",
   "metadata": {},
   "source": [
    "The Mean value of the Age is 29.59 and the Median value for the Age is 25.0"
   ]
  },
  {
   "cell_type": "markdown",
   "id": "723bd8fd",
   "metadata": {},
   "source": [
    "b. What mode of data tuples? Comment on the data’s modality"
   ]
  },
  {
   "cell_type": "code",
   "execution_count": 39,
   "id": "bcc9a938",
   "metadata": {},
   "outputs": [
    {
     "name": "stdout",
     "output_type": "stream",
     "text": [
      "0    25\n",
      "Name: age, dtype: int64\n"
     ]
    }
   ],
   "source": [
    "mode = df['age'].mode()\n",
    "modality = len(mode)\n",
    "print(mode)"
   ]
  },
  {
   "cell_type": "markdown",
   "id": "446bb7e8",
   "metadata": {},
   "source": [
    "The Mode value of the Age is 25."
   ]
  },
  {
   "cell_type": "code",
   "execution_count": 40,
   "id": "de4cd03d",
   "metadata": {},
   "outputs": [
    {
     "name": "stdout",
     "output_type": "stream",
     "text": [
      "1\n"
     ]
    }
   ],
   "source": [
    "print(modality)"
   ]
  },
  {
   "cell_type": "markdown",
   "id": "bdf7b5f6",
   "metadata": {},
   "source": [
    "The Modality of the Age Data is 1 which denotes it as a unimodal where the data has a single mode.This implies there is one dominant value."
   ]
  },
  {
   "cell_type": "markdown",
   "id": "ccab9110",
   "metadata": {},
   "source": [
    "c. What is the midrange of the data?"
   ]
  },
  {
   "cell_type": "code",
   "execution_count": 41,
   "id": "1e93690a",
   "metadata": {},
   "outputs": [
    {
     "name": "stdout",
     "output_type": "stream",
     "text": [
      "41.5\n"
     ]
    }
   ],
   "source": [
    "midrange = (df['age'].max() + df['age'].min()) / 2\n",
    "print(midrange)"
   ]
  },
  {
   "cell_type": "markdown",
   "id": "60a54939",
   "metadata": {},
   "source": [
    "The Midrange of the Age is 41.5."
   ]
  },
  {
   "cell_type": "markdown",
   "id": "a5f266ab",
   "metadata": {},
   "source": [
    "d. Calculate Q1, Q2, and Q3 of the data."
   ]
  },
  {
   "cell_type": "code",
   "execution_count": 42,
   "id": "e7ef3462",
   "metadata": {},
   "outputs": [
    {
     "name": "stdout",
     "output_type": "stream",
     "text": [
      "20.5\n",
      "25.0\n",
      "35.0\n"
     ]
    }
   ],
   "source": [
    "Q1 = df['age'].quantile(0.25)\n",
    "Q2 = df['age'].quantile(0.50)  # This is the median\n",
    "Q3 = df['age'].quantile(0.75)\n",
    "print(Q1)\n",
    "print(Q2)\n",
    "print(Q3)"
   ]
  },
  {
   "cell_type": "markdown",
   "id": "abb8762b",
   "metadata": {},
   "source": [
    "The Quantile 1 value is 20.5.\n",
    "\n",
    "The Quantile 2 value is 25.0.\n",
    "\n",
    "The Quantile 3 value is 35."
   ]
  },
  {
   "cell_type": "markdown",
   "id": "4ad5e0b3",
   "metadata": {},
   "source": [
    "e. Give the five-number summary of the data."
   ]
  },
  {
   "cell_type": "code",
   "execution_count": 43,
   "id": "c47a42de",
   "metadata": {},
   "outputs": [
    {
     "name": "stdout",
     "output_type": "stream",
     "text": [
      "min    13.0\n",
      "25%    20.5\n",
      "50%    25.0\n",
      "75%    35.0\n",
      "max    70.0\n",
      "Name: age, dtype: float64\n"
     ]
    }
   ],
   "source": [
    "five_number_summary = df['age'].describe().transpose()[['min', '25%', '50%', '75%', 'max']]\n",
    "print(five_number_summary)"
   ]
  },
  {
   "cell_type": "markdown",
   "id": "805439f0",
   "metadata": {},
   "source": [
    "The Five Number Summary values are 13.0, 20.5, 25.0, 35.0 and 70.0."
   ]
  },
  {
   "cell_type": "markdown",
   "id": "92b3ff7a",
   "metadata": {},
   "source": [
    "f. Show a boxplot of the data"
   ]
  },
  {
   "cell_type": "code",
   "execution_count": 31,
   "id": "d55e666a",
   "metadata": {},
   "outputs": [],
   "source": [
    "import matplotlib.pyplot as plt"
   ]
  },
  {
   "cell_type": "code",
   "execution_count": 45,
   "id": "ccee1ce4",
   "metadata": {},
   "outputs": [
    {
     "data": {
      "image/png": "[encoded data removed]",
      "text/plain": [
       "<Figure size 500x600 with 1 Axes>"
      ]
     },
     "metadata": {},
     "output_type": "display_data"
    }
   ],
   "source": [
    "plt.figure(figsize=(5, 6))\n",
    "df.boxplot()\n",
    "plt.title(\"Boxplot for the Age data\")\n",
    "plt.show()"
   ]
  },
  {
   "cell_type": "markdown",
   "id": "6fe8e9de",
   "metadata": {},
   "source": [
    "4. Use the data set in problem 3.\n",
    "\n",
    "a. Normalize the age attribute using z-score, round your answer to 4\n",
    "decimal places"
   ]
  },
  {
   "cell_type": "code",
   "execution_count": 47,
   "id": "7ca2eba3",
   "metadata": {},
   "outputs": [],
   "source": [
    "std = df['age'].std()\n",
    "df['zscore'] = ((df['age'] - mean) / std).round(4)"
   ]
  },
  {
   "cell_type": "code",
   "execution_count": 48,
   "id": "de89dee0",
   "metadata": {},
   "outputs": [
    {
     "data": {
      "text/plain": [
       "0   -1.2827\n",
       "1   -1.1281\n",
       "2   -1.0508\n",
       "3   -1.0508\n",
       "4   -0.8189\n",
       "Name: zscore, dtype: float64"
      ]
     },
     "execution_count": 48,
     "metadata": {},
     "output_type": "execute_result"
    }
   ],
   "source": [
    "df['zscore'].head()"
   ]
  },
  {
   "cell_type": "markdown",
   "id": "49f5ce3e",
   "metadata": {},
   "source": [
    "b. Compute the variance before normalization"
   ]
  },
  {
   "cell_type": "code",
   "execution_count": 49,
   "id": "53e4f2cd",
   "metadata": {},
   "outputs": [
    {
     "name": "stdout",
     "output_type": "stream",
     "text": [
      "167.32763532763528\n"
     ]
    }
   ],
   "source": [
    "variance = df['age'].var()\n",
    "print(variance)"
   ]
  },
  {
   "cell_type": "markdown",
   "id": "7eaf204e",
   "metadata": {},
   "source": [
    "The value of variance before normalization is 167.32."
   ]
  },
  {
   "cell_type": "markdown",
   "id": "eb413c92",
   "metadata": {},
   "source": [
    "c. Compute the variance after normalization"
   ]
  },
  {
   "cell_type": "code",
   "execution_count": 51,
   "id": "166d87d2",
   "metadata": {},
   "outputs": [
    {
     "name": "stdout",
     "output_type": "stream",
     "text": [
      "1.000008218062678\n"
     ]
    }
   ],
   "source": [
    "variance1 = df['zscore'].var()\n",
    "print(variance1)"
   ]
  },
  {
   "cell_type": "markdown",
   "id": "56892695",
   "metadata": {},
   "source": [
    "The value of variance after normalization is 1.0."
   ]
  },
  {
   "cell_type": "markdown",
   "id": "64f1d94c",
   "metadata": {},
   "source": [
    "d. Compute the mean – mode."
   ]
  },
  {
   "cell_type": "code",
   "execution_count": 52,
   "id": "6c430cc0",
   "metadata": {},
   "outputs": [
    {
     "name": "stdout",
     "output_type": "stream",
     "text": [
      "0    4.592593\n",
      "Name: age, dtype: float64\n"
     ]
    }
   ],
   "source": [
    "val = mean - mode\n",
    "print(val)"
   ]
  },
  {
   "cell_type": "markdown",
   "id": "0ee9d8d6",
   "metadata": {},
   "source": [
    "The value of mean - mode is 4.5."
   ]
  },
  {
   "cell_type": "markdown",
   "id": "72083691",
   "metadata": {},
   "source": [
    "e. Compute the 3*(mean – mode)"
   ]
  },
  {
   "cell_type": "code",
   "execution_count": 53,
   "id": "425af2c6",
   "metadata": {},
   "outputs": [
    {
     "name": "stdout",
     "output_type": "stream",
     "text": [
      "0    13.777778\n",
      "Name: age, dtype: float64\n"
     ]
    }
   ],
   "source": [
    "val1 = 3*(mean - mode)\n",
    "print(val1)"
   ]
  },
  {
   "cell_type": "markdown",
   "id": "9f044d6e",
   "metadata": {},
   "source": [
    "The value of 3*(mean - mode) is 13.7."
   ]
  },
  {
   "cell_type": "markdown",
   "id": "976e52cc",
   "metadata": {},
   "source": [
    "f. Comment on parts d and e"
   ]
  },
  {
   "cell_type": "markdown",
   "id": "e7e695df",
   "metadata": {},
   "source": [
    "The value of mean - mode is 4.5 which denotes the skewness of the data. The value of 3*(mean - mode) is 13.7 which denotes the increase in magnitude of the difference between mean and mode which could be used for some analysis."
   ]
  },
  {
   "cell_type": "markdown",
   "id": "7a1ada03",
   "metadata": {},
   "source": [
    "5. Use these methods to normalize the following group of data:\n",
    "200, 300, 400, 600, 1000, 1600.\n",
    "\n",
    "a. Min-max normalization by setting min = 0 and max = 1"
   ]
  },
  {
   "cell_type": "code",
   "execution_count": 61,
   "id": "800522ed",
   "metadata": {},
   "outputs": [
    {
     "name": "stdout",
     "output_type": "stream",
     "text": [
      "The Normalized Min- Max values are : [0.0, 0.07142857142857142, 0.14285714285714285, 0.2857142857142857, 0.5714285714285714, 1.0]\n"
     ]
    }
   ],
   "source": [
    "data = [200, 300, 400, 600, 1000, 1600]\n",
    "min_value = min(data)\n",
    "max_value = max(data)\n",
    "min_max_normalized = [(x - min_value) / (max_value - min_value) for x in data]\n",
    "print(\"The Normalized Min- Max values are : {0}\".format(min_max_normalized))"
   ]
  },
  {
   "cell_type": "markdown",
   "id": "5a08bc8b",
   "metadata": {},
   "source": [
    "b. Z-score normalization"
   ]
  },
  {
   "cell_type": "code",
   "execution_count": 62,
   "id": "c0d1f13f",
   "metadata": {},
   "outputs": [
    {
     "name": "stdout",
     "output_type": "stream",
     "text": [
      "The Normalized Z score values are : [-0.9107077248809253, -0.722285436974527, -0.5338631490681287, -0.157018573255332, 0.5966705783702613, 1.7272043058086513]\n"
     ]
    }
   ],
   "source": [
    "mean = pd.Series(data).mean()\n",
    "std = pd.Series(data).std()\n",
    "z_scorevalues = [(x - mean) / std for x in data]\n",
    "print(\"The Normalized Z score values are : {0}\".format(z_scorevalues))"
   ]
  },
  {
   "cell_type": "markdown",
   "id": "673e8888",
   "metadata": {},
   "source": [
    "c.Z-score normalization using the mean absolute deviation instead of\n",
    "standard deviation"
   ]
  },
  {
   "cell_type": "code",
   "execution_count": 63,
   "id": "703f7072",
   "metadata": {},
   "outputs": [
    {
     "name": "stdout",
     "output_type": "stream",
     "text": [
      "The Normalized Z score values with Mean absolute Deviation are : [-1.1756756756756759, -0.9324324324324326, -0.6891891891891894, -0.2027027027027028, 0.7702702702702702, 2.22972972972973]\n"
     ]
    },
    {
     "name": "stderr",
     "output_type": "stream",
     "text": [
      "/var/folders/xj/528n9mxn5cldks_f29h344240000gn/T/ipykernel_35491/1197815547.py:1: FutureWarning: The 'mad' method is deprecated and will be removed in a future version. To compute the same result, you may do `(df - df.mean()).abs().mean()`.\n",
      "  mean_absolute_deviation = pd.Series(data).mad()\n"
     ]
    }
   ],
   "source": [
    "mean_absolute_deviation = pd.Series(data).mad()\n",
    "z_score_madvalues = [(x - mean) / mean_absolute_deviation for x in data]\n",
    "print(\"The Normalized Z score values with Mean absolute Deviation are : {0}\".format(z_score_madvalues))"
   ]
  },
  {
   "cell_type": "markdown",
   "id": "8676005f",
   "metadata": {},
   "source": [
    "d. Normalization by decimal scaling\n"
   ]
  },
  {
   "cell_type": "code",
   "execution_count": 66,
   "id": "df878c92",
   "metadata": {},
   "outputs": [
    {
     "name": "stdout",
     "output_type": "stream",
     "text": [
      "The Normalized values by decimal scaling are : [0.02, 0.03, 0.04, 0.06, 0.1, 0.16]\n"
     ]
    }
   ],
   "source": [
    "max_absolute_value = max(abs(min_value), abs(max_value))\n",
    "scaling_factor = 10 ** len(str(int(max_absolute_value)))\n",
    "decimal_scaling_normalized_values = [x / scaling_factor for x in data]\n",
    "print(\"The Normalized values by decimal scaling are : {0}\".format(decimal_scaling_normalized_values))"
   ]
  },
  {
   "cell_type": "code",
   "execution_count": 2,
   "id": "0a45abee",
   "metadata": {},
   "outputs": [
    {
     "ename": "NameError",
     "evalue": "name 'List' is not defined",
     "output_type": "error",
     "traceback": [
      "\u001b[0;31m---------------------------------------------------------------------------\u001b[0m",
      "\u001b[0;31mNameError\u001b[0m                                 Traceback (most recent call last)",
      "Cell \u001b[0;32mIn[2], line 1\u001b[0m\n\u001b[0;32m----> 1\u001b[0m \u001b[38;5;28;01mdef\u001b[39;00m \u001b[38;5;21msearchMatrix\u001b[39m(matrix: List[List[\u001b[38;5;28mint\u001b[39m]], target: \u001b[38;5;28mint\u001b[39m):\n\u001b[1;32m      2\u001b[0m         \u001b[38;5;28;01mfor\u001b[39;00m i \u001b[38;5;129;01min\u001b[39;00m \u001b[38;5;28mrange\u001b[39m(\u001b[38;5;28mlen\u001b[39m(matrix)):\n\u001b[1;32m      3\u001b[0m             le\u001b[38;5;241m=\u001b[39mmatrix[i][\u001b[38;5;241m0\u001b[39m]\n",
      "\u001b[0;31mNameError\u001b[0m: name 'List' is not defined"
     ]
    }
   ],
   "source": [
    "def searchMatrix(matrix: List[List[int]], target: int):\n",
    "        for i in range(len(matrix)):\n",
    "            le=matrix[i][0]\n",
    "            rt=len(matrix[i])-1\n",
    "            print(le)\n",
    "            print(rt)\n",
    "            while le<=rt:\n",
    "                mid=(le+rt)//2\n",
    "                if matrix[i][mid]==target:\n",
    "                    return True\n",
    "                else:\n",
    "                    if matrix[i][mid]< target:\n",
    "                        le=mid+1\n",
    "                    else:\n",
    "                        rt=mid-1\n",
    "#     if len(matrix)==1 and len(matrix[0][0])==1:\n",
    "  #          if target in matrix[0][0]:\n",
    "     #           return True\n",
    "        return False\n",
    "matrix=[[1]]\n",
    "target=1\n",
    "searchMatrix(matrix,target)"
   ]
  },
  {
   "cell_type": "code",
   "execution_count": null,
   "id": "467f58ec",
   "metadata": {},
   "outputs": [],
   "source": []
  }
 ],
 "metadata": {
  "kernelspec": {
   "display_name": "Python 3 (ipykernel)",
   "language": "python",
   "name": "python3"
  },
  "language_info": {
   "codemirror_mode": {
    "name": "ipython",
    "version": 3
   },
   "file_extension": ".py",
   "mimetype": "text/x-python",
   "name": "python",
   "nbconvert_exporter": "python",
   "pygments_lexer": "ipython3",
   "version": "3.11.4"
  }
 },
 "nbformat": 4,
 "nbformat_minor": 5
}
