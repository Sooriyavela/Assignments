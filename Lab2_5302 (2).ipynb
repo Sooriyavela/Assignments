{
 "cells": [
  {
   "cell_type": "code",
   "execution_count": null,
   "id": "eba7d75c",
   "metadata": {},
   "outputs": [],
   "source": [
    "# ASDS 5302 - 002 -Lab 2\n",
    "\n",
    "Name - Jeyasooriya Saravanan\n",
    "UTA ID -1002186838\n",
    "Project -02"
   ]
  },
  {
   "cell_type": "code",
   "execution_count": 1,
   "id": "c0f17a69",
   "metadata": {},
   "outputs": [],
   "source": [
    "# 10 points \n",
    "# (1). Create a list, name it list1, including 3 towns' names in Texas. \n",
    "#  example output can be: ['Arlington', 'Dallas', 'Fort Worth']. Please choose your own towns.\n",
    "# (2). Create a list, name it list2, including 3 integers.\n",
    "#  example output can be : [300, 200, 51].  Please choose your own integers.\n",
    "# (3). Create a list, name it list3, from list1 and list2 by pairing up the entires \n",
    "#      in the same positions into tuples. \n",
    "#  example output can be : [('Arlington', 300) , ('Dallas',200), ('Fort Worth',51)]"
   ]
  },
  {
   "cell_type": "code",
   "execution_count": 39,
   "id": "8b580693",
   "metadata": {},
   "outputs": [
    {
     "name": "stdout",
     "output_type": "stream",
     "text": [
      "List1 consists of the following elements:['Irvine', 'Plato', 'Fort Worth']\n",
      "List2 consists of the following elements:[300, 200, 51]\n",
      "The List3 consisting of list1 and list2 elements is: [('Irvine', 300), ('Plato', 200), ('Fort Worth', 51)]\n"
     ]
    }
   ],
   "source": [
    "list1=['Irvine', 'Plato', 'Fort Worth']\n",
    "print(\"List1 consists of the following elements:{0}\".format(list1))\n",
    "list2=[300, 200, 51]\n",
    "print(\"List2 consists of the following elements:{0}\".format(list2))\n",
    "list3 = list(zip(list1,list2))\n",
    "print(\"The List3 consisting of list1 and list2 elements is: {0}\".format(list3))"
   ]
  },
  {
   "cell_type": "code",
   "execution_count": 6,
   "id": "5cdffb73",
   "metadata": {},
   "outputs": [],
   "source": [
    "# 10 points\n",
    "# (1). Create a dictionary from list3 of the last question \n",
    "# with keys being the town names and values being the integers\n",
    "# example output can be: {'Arlington': 300 , 'Dallas':200, 'Fort Worth':51}"
   ]
  },
  {
   "cell_type": "code",
   "execution_count": 15,
   "id": "11fe7df8",
   "metadata": {},
   "outputs": [
    {
     "name": "stdout",
     "output_type": "stream",
     "text": [
      "Dictionary created from list3 of the last question is : {'Irvine': 300, 'Plato': 200, 'Fort Worth': 51}\n"
     ]
    }
   ],
   "source": [
    "dict1 = dict(list3)\n",
    "print(\"Dictionary created from list3 of the last question is : {0}\".format(dict1))"
   ]
  },
  {
   "cell_type": "code",
   "execution_count": 9,
   "id": "a740496b",
   "metadata": {},
   "outputs": [],
   "source": [
    "# 10 points\n",
    "# (1). Write a function, name it get_town_values, that takes two input lists with the same length.\n",
    "# The 1st input list are strings. The 2nd input list are integers.\n",
    "# The function returns a dictionary by pairing up the entries from the same positions of \n",
    "# the two input lists. Use the 1st input list as keys and the 2nd input list as values.\n",
    "# (2) Test your function using list1 and list2 from question1."
   ]
  },
  {
   "cell_type": "code",
   "execution_count": 41,
   "id": "fb116a55",
   "metadata": {},
   "outputs": [
    {
     "name": "stdout",
     "output_type": "stream",
     "text": [
      "The Dictionary created by combining two lists is : {'Irvine': 300, 'Plato': 200, 'Fort Worth': 51}\n"
     ]
    }
   ],
   "source": [
    "def get_town_values(town_names,town_values):\n",
    "    town_dict = {}\n",
    "    if len(town_names) == len(town_values):\n",
    "        for i in range(len(town_names)):\n",
    "            town_dict[town_names[i]] = town_values[i]\n",
    "        return town_dict\n",
    "    else:\n",
    "        return \"Input lists should be of same length to form a Dictionary\"\n",
    "\n",
    "print(\"The Dictionary created by combining two lists is : {0}\".format(get_town_values(list1,list2)))"
   ]
  },
  {
   "cell_type": "code",
   "execution_count": null,
   "id": "0517cd68",
   "metadata": {},
   "outputs": [],
   "source": []
  }
 ],
 "metadata": {
  "kernelspec": {
   "display_name": "Python 3 (ipykernel)",
   "language": "python",
   "name": "python3"
  },
  "language_info": {
   "codemirror_mode": {
    "name": "ipython",
    "version": 3
   },
   "file_extension": ".py",
   "mimetype": "text/x-python",
   "name": "python",
   "nbconvert_exporter": "python",
   "pygments_lexer": "ipython3",
   "version": "3.11.4"
  }
 },
 "nbformat": 4,
 "nbformat_minor": 5
}
